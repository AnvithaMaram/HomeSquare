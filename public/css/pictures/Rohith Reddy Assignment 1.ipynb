{
 "cells": [
  {
   "cell_type": "code",
   "execution_count": 1,
   "id": "84df07fd",
   "metadata": {},
   "outputs": [
    {
     "name": "stdout",
     "output_type": "stream",
     "text": [
      "[11, 2, 3, 4, 5, 6, 7]\n"
     ]
    }
   ],
   "source": [
    "def l(list1):\n",
    "    list2 =[]\n",
    "    for a in list1:\n",
    "        if a not in list2:\n",
    "            list2.append(a)\n",
    "        \n",
    "    return list2\n",
    " \n",
    "\n",
    "print(l([11,2,3,4,4,4,5,6,7,7]))"
   ]
  },
  {
   "cell_type": "code",
   "execution_count": 2,
   "id": "fd35a303",
   "metadata": {},
   "outputs": [
    {
     "name": "stdout",
     "output_type": "stream",
     "text": [
      "720\n"
     ]
    }
   ],
   "source": [
    "def multiply_num(*list1):\n",
    "    \n",
    "    f = 1\n",
    "    for x in list1:\n",
    "        f = f*x\n",
    "    return f\n",
    "\n",
    "\n",
    "print(multiply_num(1,2,3,4,5,6))"
   ]
  },
  {
   "cell_type": "code",
   "execution_count": 3,
   "id": "bd1e992d",
   "metadata": {},
   "outputs": [
    {
     "name": "stdout",
     "output_type": "stream",
     "text": [
      "The String is palindrome\n"
     ]
    }
   ],
   "source": [
    "def string(s):\n",
    "    s1 = s[::-1]\n",
    "    \n",
    "    if(s==s1):\n",
    "        print(\"The String is palindrome\")\n",
    "    else:\n",
    "        print(\"The String is not palindrome\")\n",
    "\n",
    "string(\"madam\")"
   ]
  },
  {
   "cell_type": "code",
   "execution_count": 4,
   "id": "5319376b",
   "metadata": {},
   "outputs": [
    {
     "name": "stdout",
     "output_type": "stream",
     "text": [
      "[1, 4, 9, 16, 25, 36, 49, 64, 81, 100, 121, 144, 169, 196, 225, 256, 289, 324, 361, 400, 441, 484, 529, 576, 625, 676, 729, 784, 841, 900]\n"
     ]
    }
   ],
   "source": [
    "def square_of_numbers(n):\n",
    "    print([i**2 for i in range(1, n+1)])\n",
    "square_of_numbers(30)"
   ]
  },
  {
   "cell_type": "code",
   "execution_count": 5,
   "id": "2b09fdd3",
   "metadata": {},
   "outputs": [
    {
     "name": "stdout",
     "output_type": "stream",
     "text": [
      "2\n"
     ]
    }
   ],
   "source": [
    "def local_variables():\n",
    "    l = 1\n",
    "    m = 1\n",
    "print(local_variables.__code__.co_nlocals)"
   ]
  },
  {
   "cell_type": "code",
   "execution_count": 6,
   "id": "0bf8f2be",
   "metadata": {},
   "outputs": [
    {
     "data": {
      "text/plain": [
       "16807"
      ]
     },
     "execution_count": 6,
     "metadata": {},
     "output_type": "execute_result"
    }
   ],
   "source": [
    "def func(n,p):\n",
    "    if p == 0:\n",
    "        return 1\n",
    "    else:\n",
    "        return n*func(n,p-1)\n",
    "    print(func(n,p))\n",
    "    \n",
    "func(7,5)"
   ]
  },
  {
   "cell_type": "code",
   "execution_count": 7,
   "id": "5e099e49",
   "metadata": {},
   "outputs": [
    {
     "name": "stdout",
     "output_type": "stream",
     "text": [
      "0 EVEN\n",
      "1 ODD\n",
      "2 EVEN\n",
      "3 ODD\n"
     ]
    }
   ],
   "source": [
    "def showNumbers(limit):\n",
    "    for i in range(0, limit+1):\n",
    "        if i%2 == 0:\n",
    "            print(i, \"EVEN\")\n",
    "        else:\n",
    "            print(i,\"ODD\")\n",
    "\n",
    "\n",
    "showNumbers(3)"
   ]
  },
  {
   "cell_type": "code",
   "execution_count": 8,
   "id": "d29b9647",
   "metadata": {},
   "outputs": [
    {
     "name": "stdout",
     "output_type": "stream",
     "text": [
      "593\n"
     ]
    }
   ],
   "source": [
    "def sum_of_multiples(limit):\n",
    "    sum = 0\n",
    "    for i in range(0,limit+1):\n",
    "        if i%3 == 0 or i%5 == 0:\n",
    "            sum+=i\n",
    "            \n",
    "    print(sum)\n",
    "sum_of_multiples(50)"
   ]
  },
  {
   "cell_type": "code",
   "execution_count": 9,
   "id": "b8ac4c91",
   "metadata": {},
   "outputs": [
    {
     "data": {
      "text/plain": [
       "['Hello Dear', 'Hello Sir', 'take Dear', 'take Sir']"
      ]
     },
     "execution_count": 9,
     "metadata": {},
     "output_type": "execute_result"
    }
   ],
   "source": [
    "def concatenate(list1, list2):\n",
    "    concate_list = []\n",
    "    for item1 in list1:\n",
    "        for item2 in list2:\n",
    "            concate_list.append(item1+\" \"+item2)\n",
    "    return concate_list\n",
    "concatenate([\"Hello\",\"take\"],[\"Dear\",\"Sir\"])"
   ]
  },
  {
   "cell_type": "code",
   "execution_count": 10,
   "id": "feb11c6e",
   "metadata": {},
   "outputs": [
    {
     "ename": "TypeError",
     "evalue": "'int' object is not iterable",
     "output_type": "error",
     "traceback": [
      "\u001b[1;31m---------------------------------------------------------------------------\u001b[0m",
      "\u001b[1;31mTypeError\u001b[0m                                 Traceback (most recent call last)",
      "Input \u001b[1;32mIn [10]\u001b[0m, in \u001b[0;36m<module>\u001b[1;34m\u001b[0m\n\u001b[0;32m      3\u001b[0m     \u001b[38;5;28;01mreturn\u001b[39;00m remove\n\u001b[0;32m      4\u001b[0m l \u001b[38;5;241m=\u001b[39m [\u001b[38;5;241m1\u001b[39m,\u001b[38;5;241m2\u001b[39m,\u001b[38;5;241m3\u001b[39m,\u001b[38;5;241m4\u001b[39m,\u001b[38;5;241m5\u001b[39m,\u001b[38;5;241m5\u001b[39m,\u001b[38;5;241m6\u001b[39m,\u001b[38;5;241m7\u001b[39m,\u001b[38;5;241m7\u001b[39m,\u001b[38;5;241m7\u001b[39m,\u001b[38;5;241m7\u001b[39m,\u001b[38;5;241m4\u001b[39m,\u001b[38;5;241m5\u001b[39m,\u001b[38;5;241m6\u001b[39m,\u001b[38;5;241m3\u001b[39m]\n\u001b[1;32m----> 5\u001b[0m \u001b[43mremove_occurrences\u001b[49m\u001b[43m(\u001b[49m\u001b[38;5;241;43m3\u001b[39;49m\u001b[43m,\u001b[49m\u001b[38;5;241;43m6\u001b[39;49m\u001b[43m)\u001b[49m\n",
      "Input \u001b[1;32mIn [10]\u001b[0m, in \u001b[0;36mremove_occurrences\u001b[1;34m(l, t)\u001b[0m\n\u001b[0;32m      1\u001b[0m \u001b[38;5;28;01mdef\u001b[39;00m \u001b[38;5;21mremove_occurrences\u001b[39m(l,t):\n\u001b[1;32m----> 2\u001b[0m     remove \u001b[38;5;241m=\u001b[39m [i \u001b[38;5;28;01mfor\u001b[39;00m i \u001b[38;5;129;01min\u001b[39;00m l \u001b[38;5;28;01mif\u001b[39;00m i\u001b[38;5;241m!=\u001b[39mt]\n\u001b[0;32m      3\u001b[0m     \u001b[38;5;28;01mreturn\u001b[39;00m remove\n",
      "\u001b[1;31mTypeError\u001b[0m: 'int' object is not iterable"
     ]
    }
   ],
   "source": [
    "def remove_occurrences(l,t):\n",
    "    remove = [i for i in l if i!=t]\n",
    "    return remove\n",
    "l = [1,2,3,4,5,5,6,7,7,7,7,4,5,6,3]\n",
    "remove_occurrences(3,6)\n",
    "    "
   ]
  },
  {
   "cell_type": "code",
   "execution_count": null,
   "id": "2cf59f88",
   "metadata": {},
   "outputs": [],
   "source": []
  }
 ],
 "metadata": {
  "kernelspec": {
   "display_name": "Python 3 (ipykernel)",
   "language": "python",
   "name": "python3"
  },
  "language_info": {
   "codemirror_mode": {
    "name": "ipython",
    "version": 3
   },
   "file_extension": ".py",
   "mimetype": "text/x-python",
   "name": "python",
   "nbconvert_exporter": "python",
   "pygments_lexer": "ipython3",
   "version": "3.9.10"
  }
 },
 "nbformat": 4,
 "nbformat_minor": 5
}
